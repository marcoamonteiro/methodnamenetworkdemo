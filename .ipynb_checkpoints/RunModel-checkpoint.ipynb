{
 "cells": [
  {
   "cell_type": "code",
   "execution_count": 2,
   "metadata": {},
   "outputs": [
    {
     "name": "stderr",
     "output_type": "stream",
     "text": [
      "Using TensorFlow backend.\n"
     ]
    }
   ],
   "source": [
    "import json\n",
    "import numpy as np\n",
    "from keras.models import Sequential\n",
    "from keras.layers import Dense\n",
    "import argparse"
   ]
  },
  {
   "cell_type": "code",
   "execution_count": 3,
   "metadata": {
    "collapsed": true
   },
   "outputs": [],
   "source": [
    "from keras import optimizers\n",
    "from keras.datasets import imdb\n",
    "from keras.models import Sequential, Model\n",
    "from keras.layers import Dense, Input, Dropout, LSTM\n",
    "from keras.layers.embeddings import Embedding\n",
    "from keras.preprocessing import sequence\n",
    "from keras.utils import np_utils "
   ]
  },
  {
   "cell_type": "code",
   "execution_count": 8,
   "metadata": {
    "collapsed": true
   },
   "outputs": [],
   "source": [
    "goodNames = np.load('encodings_goodnamesout.npy')\n",
    "badNames = np.load('encodings_badnamesout.npy')"
   ]
  },
  {
   "cell_type": "code",
   "execution_count": 9,
   "metadata": {
    "collapsed": true
   },
   "outputs": [],
   "source": [
    "traintest_Y = np.zeros((1600,1))\n",
    "traintest = np.zeros((1600,50))\n",
    "for i in range(0,800):\n",
    "    traintest[i*2,:] = goodNames[:,i]\n",
    "    traintest[i*2+1,:]  = badNames[:,i]\n",
    "    traintest_Y[i*2, 0] = 1\n",
    "    traintest_Y[i*2+1,0] = 0\n",
    "\n",
    "traintest_Y_cat = np_utils.to_categorical(traintest_Y, 2)"
   ]
  },
  {
   "cell_type": "code",
   "execution_count": 10,
   "metadata": {},
   "outputs": [
    {
     "name": "stdout",
     "output_type": "stream",
     "text": [
      "_________________________________________________________________\n",
      "Layer (type)                 Output Shape              Param #   \n",
      "=================================================================\n",
      "dense_5 (Dense)              (None, 40)                2040      \n",
      "_________________________________________________________________\n",
      "dense_6 (Dense)              (None, 40)                1640      \n",
      "_________________________________________________________________\n",
      "dense_7 (Dense)              (None, 40)                1640      \n",
      "_________________________________________________________________\n",
      "dense_8 (Dense)              (None, 2)                 82        \n",
      "=================================================================\n",
      "Total params: 5,402\n",
      "Trainable params: 5,402\n",
      "Non-trainable params: 0\n",
      "_________________________________________________________________\n",
      "Epoch 1/100\n",
      "1500/1500 [==============================] - 1s 426us/step - loss: 0.6830 - acc: 0.6633\n",
      "Epoch 2/100\n",
      "1500/1500 [==============================] - 0s 17us/step - loss: 0.6424 - acc: 0.8707\n",
      "Epoch 3/100\n",
      "1500/1500 [==============================] - 0s 19us/step - loss: 0.5700 - acc: 0.8900\n",
      "Epoch 4/100\n",
      "1500/1500 [==============================] - 0s 19us/step - loss: 0.4412 - acc: 0.9267\n",
      "Epoch 5/100\n",
      "1500/1500 [==============================] - 0s 19us/step - loss: 0.2805 - acc: 0.9647\n",
      "Epoch 6/100\n",
      "1500/1500 [==============================] - 0s 19us/step - loss: 0.1562 - acc: 0.9860\n",
      "Epoch 7/100\n",
      "1500/1500 [==============================] - 0s 19us/step - loss: 0.0834 - acc: 0.9907\n",
      "Epoch 8/100\n",
      "1500/1500 [==============================] - 0s 19us/step - loss: 0.0486 - acc: 0.9907\n",
      "Epoch 9/100\n",
      "1500/1500 [==============================] - 0s 19us/step - loss: 0.0265 - acc: 0.9940\n",
      "Epoch 10/100\n",
      "1500/1500 [==============================] - 0s 19us/step - loss: 0.0148 - acc: 1.0000\n",
      "Epoch 11/100\n",
      "1500/1500 [==============================] - 0s 19us/step - loss: 0.0091 - acc: 1.0000\n",
      "Epoch 12/100\n",
      "1500/1500 [==============================] - 0s 20us/step - loss: 0.0062 - acc: 1.0000\n",
      "Epoch 13/100\n",
      "1500/1500 [==============================] - 0s 18us/step - loss: 0.0045 - acc: 1.0000\n",
      "Epoch 14/100\n",
      "1500/1500 [==============================] - 0s 17us/step - loss: 0.0034 - acc: 1.0000\n",
      "Epoch 15/100\n",
      "1500/1500 [==============================] - 0s 17us/step - loss: 0.0026 - acc: 1.0000\n",
      "Epoch 16/100\n",
      "1500/1500 [==============================] - 0s 18us/step - loss: 0.0021 - acc: 1.0000\n",
      "Epoch 17/100\n",
      "1500/1500 [==============================] - 0s 19us/step - loss: 0.0017 - acc: 1.0000\n",
      "Epoch 18/100\n",
      "1500/1500 [==============================] - 0s 20us/step - loss: 0.0014 - acc: 1.0000\n",
      "Epoch 19/100\n",
      "1500/1500 [==============================] - 0s 19us/step - loss: 0.0012 - acc: 1.0000\n",
      "Epoch 20/100\n",
      "1500/1500 [==============================] - 0s 18us/step - loss: 0.0010 - acc: 1.0000\n",
      "Epoch 21/100\n",
      "1500/1500 [==============================] - 0s 19us/step - loss: 8.9586e-04 - acc: 1.0000\n",
      "Epoch 22/100\n",
      "1500/1500 [==============================] - 0s 18us/step - loss: 7.8744e-04 - acc: 1.0000\n",
      "Epoch 23/100\n",
      "1500/1500 [==============================] - 0s 17us/step - loss: 6.9226e-04 - acc: 1.0000\n",
      "Epoch 24/100\n",
      "1500/1500 [==============================] - 0s 18us/step - loss: 6.1824e-04 - acc: 1.0000\n",
      "Epoch 25/100\n",
      "1500/1500 [==============================] - 0s 18us/step - loss: 5.5241e-04 - acc: 1.0000\n",
      "Epoch 26/100\n",
      "1500/1500 [==============================] - 0s 18us/step - loss: 4.9695e-04 - acc: 1.0000\n",
      "Epoch 27/100\n",
      "1500/1500 [==============================] - ETA: 0s - loss: 5.0295e-04 - acc: 1.000 - 0s 17us/step - loss: 4.5000e-04 - acc: 1.0000\n",
      "Epoch 28/100\n",
      "1500/1500 [==============================] - 0s 21us/step - loss: 4.0935e-04 - acc: 1.0000\n",
      "Epoch 29/100\n",
      "1500/1500 [==============================] - 0s 18us/step - loss: 3.7370e-04 - acc: 1.0000\n",
      "Epoch 30/100\n",
      "1500/1500 [==============================] - 0s 19us/step - loss: 3.4198e-04 - acc: 1.0000\n",
      "Epoch 31/100\n",
      "1500/1500 [==============================] - 0s 18us/step - loss: 3.1606e-04 - acc: 1.0000\n",
      "Epoch 32/100\n",
      "1500/1500 [==============================] - 0s 21us/step - loss: 2.8998e-04 - acc: 1.0000\n",
      "Epoch 33/100\n",
      "1500/1500 [==============================] - 0s 19us/step - loss: 2.6868e-04 - acc: 1.0000\n",
      "Epoch 34/100\n",
      "1500/1500 [==============================] - 0s 20us/step - loss: 2.4919e-04 - acc: 1.0000\n",
      "Epoch 35/100\n",
      "1500/1500 [==============================] - 0s 20us/step - loss: 2.3193e-04 - acc: 1.0000\n",
      "Epoch 36/100\n",
      "1500/1500 [==============================] - 0s 21us/step - loss: 2.1630e-04 - acc: 1.0000\n",
      "Epoch 37/100\n",
      "1500/1500 [==============================] - 0s 20us/step - loss: 2.0227e-04 - acc: 1.0000\n",
      "Epoch 38/100\n",
      "1500/1500 [==============================] - 0s 19us/step - loss: 1.8884e-04 - acc: 1.0000\n",
      "Epoch 39/100\n",
      "1500/1500 [==============================] - 0s 20us/step - loss: 1.7722e-04 - acc: 1.0000\n",
      "Epoch 40/100\n",
      "1500/1500 [==============================] - 0s 20us/step - loss: 1.6642e-04 - acc: 1.0000\n",
      "Epoch 41/100\n",
      "1500/1500 [==============================] - 0s 19us/step - loss: 1.5684e-04 - acc: 1.0000\n",
      "Epoch 42/100\n",
      "1500/1500 [==============================] - 0s 18us/step - loss: 1.4781e-04 - acc: 1.0000\n",
      "Epoch 43/100\n",
      "1500/1500 [==============================] - 0s 19us/step - loss: 1.3943e-04 - acc: 1.0000\n",
      "Epoch 44/100\n",
      "1500/1500 [==============================] - 0s 19us/step - loss: 1.3184e-04 - acc: 1.0000\n",
      "Epoch 45/100\n",
      "1500/1500 [==============================] - 0s 19us/step - loss: 1.2494e-04 - acc: 1.0000\n",
      "Epoch 46/100\n",
      "1500/1500 [==============================] - 0s 19us/step - loss: 1.1850e-04 - acc: 1.0000\n",
      "Epoch 47/100\n",
      "1500/1500 [==============================] - 0s 19us/step - loss: 1.1243e-04 - acc: 1.0000\n",
      "Epoch 48/100\n",
      "1500/1500 [==============================] - 0s 20us/step - loss: 1.0676e-04 - acc: 1.0000\n",
      "Epoch 49/100\n",
      "1500/1500 [==============================] - 0s 17us/step - loss: 1.0167e-04 - acc: 1.0000\n",
      "Epoch 50/100\n",
      "1500/1500 [==============================] - 0s 18us/step - loss: 9.6815e-05 - acc: 1.0000\n",
      "Epoch 51/100\n",
      "1500/1500 [==============================] - 0s 17us/step - loss: 9.2331e-05 - acc: 1.0000\n",
      "Epoch 52/100\n",
      "1500/1500 [==============================] - 0s 17us/step - loss: 8.8137e-05 - acc: 1.0000\n",
      "Epoch 53/100\n",
      "1500/1500 [==============================] - 0s 16us/step - loss: 8.4150e-05 - acc: 1.0000\n",
      "Epoch 54/100\n",
      "1500/1500 [==============================] - 0s 17us/step - loss: 8.0540e-05 - acc: 1.0000\n",
      "Epoch 55/100\n",
      "1500/1500 [==============================] - 0s 16us/step - loss: 7.7128e-05 - acc: 1.0000\n",
      "Epoch 56/100\n",
      "1500/1500 [==============================] - 0s 18us/step - loss: 7.3839e-05 - acc: 1.0000\n",
      "Epoch 57/100\n",
      "1500/1500 [==============================] - 0s 16us/step - loss: 7.0704e-05 - acc: 1.0000\n",
      "Epoch 58/100\n",
      "1500/1500 [==============================] - 0s 18us/step - loss: 6.7816e-05 - acc: 1.0000\n",
      "Epoch 59/100\n",
      "1500/1500 [==============================] - 0s 18us/step - loss: 6.5154e-05 - acc: 1.0000\n",
      "Epoch 60/100\n",
      "1500/1500 [==============================] - 0s 18us/step - loss: 6.2588e-05 - acc: 1.0000\n",
      "Epoch 61/100\n",
      "1500/1500 [==============================] - 0s 17us/step - loss: 6.0205e-05 - acc: 1.0000\n",
      "Epoch 62/100\n",
      "1500/1500 [==============================] - 0s 18us/step - loss: 5.7883e-05 - acc: 1.0000\n",
      "Epoch 63/100\n",
      "1500/1500 [==============================] - 0s 17us/step - loss: 5.5717e-05 - acc: 1.0000\n",
      "Epoch 64/100\n",
      "1500/1500 [==============================] - ETA: 0s - loss: 5.2271e-05 - acc: 1.000 - 0s 18us/step - loss: 5.3671e-05 - acc: 1.0000\n",
      "Epoch 65/100\n",
      "1500/1500 [==============================] - 0s 18us/step - loss: 5.1704e-05 - acc: 1.0000\n",
      "Epoch 66/100\n",
      "1500/1500 [==============================] - 0s 19us/step - loss: 4.9894e-05 - acc: 1.0000\n",
      "Epoch 67/100\n",
      "1500/1500 [==============================] - 0s 18us/step - loss: 4.8121e-05 - acc: 1.0000\n",
      "Epoch 68/100\n",
      "1500/1500 [==============================] - 0s 17us/step - loss: 4.6476e-05 - acc: 1.0000\n",
      "Epoch 69/100\n",
      "1500/1500 [==============================] - 0s 17us/step - loss: 4.4880e-05 - acc: 1.0000\n",
      "Epoch 70/100\n",
      "1500/1500 [==============================] - 0s 17us/step - loss: 4.3333e-05 - acc: 1.0000\n",
      "Epoch 71/100\n",
      "1500/1500 [==============================] - 0s 18us/step - loss: 4.1949e-05 - acc: 1.0000\n",
      "Epoch 72/100\n",
      "1500/1500 [==============================] - 0s 18us/step - loss: 4.0562e-05 - acc: 1.0000\n",
      "Epoch 73/100\n",
      "1500/1500 [==============================] - 0s 19us/step - loss: 3.9240e-05 - acc: 1.0000\n",
      "Epoch 74/100\n",
      "1500/1500 [==============================] - 0s 19us/step - loss: 3.7994e-05 - acc: 1.0000\n",
      "Epoch 75/100\n",
      "1500/1500 [==============================] - 0s 18us/step - loss: 3.6810e-05 - acc: 1.0000\n",
      "Epoch 76/100\n",
      "1500/1500 [==============================] - 0s 19us/step - loss: 3.5689e-05 - acc: 1.0000\n",
      "Epoch 77/100\n",
      "1500/1500 [==============================] - 0s 19us/step - loss: 3.4583e-05 - acc: 1.0000\n",
      "Epoch 78/100\n",
      "1500/1500 [==============================] - 0s 19us/step - loss: 3.3534e-05 - acc: 1.0000\n",
      "Epoch 79/100\n",
      "1500/1500 [==============================] - 0s 20us/step - loss: 3.2497e-05 - acc: 1.0000\n",
      "Epoch 80/100\n",
      "1500/1500 [==============================] - 0s 19us/step - loss: 3.1552e-05 - acc: 1.0000\n",
      "Epoch 81/100\n",
      "1500/1500 [==============================] - 0s 18us/step - loss: 3.0659e-05 - acc: 1.0000\n",
      "Epoch 82/100\n",
      "1500/1500 [==============================] - 0s 18us/step - loss: 2.9744e-05 - acc: 1.0000\n",
      "Epoch 83/100\n",
      "1500/1500 [==============================] - 0s 18us/step - loss: 2.8904e-05 - acc: 1.0000\n",
      "Epoch 84/100\n",
      "1500/1500 [==============================] - 0s 18us/step - loss: 2.8082e-05 - acc: 1.0000\n",
      "Epoch 85/100\n",
      "1500/1500 [==============================] - 0s 18us/step - loss: 2.7310e-05 - acc: 1.0000\n",
      "Epoch 86/100\n",
      "1500/1500 [==============================] - 0s 17us/step - loss: 2.6550e-05 - acc: 1.0000\n",
      "Epoch 87/100\n",
      "1500/1500 [==============================] - 0s 17us/step - loss: 2.5830e-05 - acc: 1.0000\n",
      "Epoch 88/100\n",
      "1500/1500 [==============================] - 0s 16us/step - loss: 2.5147e-05 - acc: 1.0000\n",
      "Epoch 89/100\n",
      "1500/1500 [==============================] - 0s 18us/step - loss: 2.4460e-05 - acc: 1.0000\n",
      "Epoch 90/100\n",
      "1500/1500 [==============================] - 0s 16us/step - loss: 2.3834e-05 - acc: 1.0000\n",
      "Epoch 91/100\n",
      "1500/1500 [==============================] - 0s 17us/step - loss: 2.3205e-05 - acc: 1.0000\n",
      "Epoch 92/100\n",
      "1500/1500 [==============================] - 0s 17us/step - loss: 2.2598e-05 - acc: 1.0000\n",
      "Epoch 93/100\n",
      "1500/1500 [==============================] - 0s 17us/step - loss: 2.2019e-05 - acc: 1.0000\n",
      "Epoch 94/100\n",
      "1500/1500 [==============================] - 0s 17us/step - loss: 2.1472e-05 - acc: 1.0000\n",
      "Epoch 95/100\n",
      "1500/1500 [==============================] - 0s 17us/step - loss: 2.0921e-05 - acc: 1.0000\n",
      "Epoch 96/100\n",
      "1500/1500 [==============================] - 0s 16us/step - loss: 2.0418e-05 - acc: 1.0000\n",
      "Epoch 97/100\n",
      "1500/1500 [==============================] - 0s 17us/step - loss: 1.9903e-05 - acc: 1.0000\n",
      "Epoch 98/100\n",
      "1500/1500 [==============================] - 0s 16us/step - loss: 1.9415e-05 - acc: 1.0000\n",
      "Epoch 99/100\n",
      "1500/1500 [==============================] - 0s 17us/step - loss: 1.8944e-05 - acc: 1.0000\n",
      "Epoch 100/100\n",
      "1500/1500 [==============================] - 0s 17us/step - loss: 1.8497e-05 - acc: 1.0000\n"
     ]
    }
   ],
   "source": [
    "model = Sequential() \n",
    "model.add(Dense(40, input_dim =50, activation = 'relu'))\n",
    "model.add(Dense(40, input_dim =40, activation = 'relu'))\n",
    "model.add(Dense(40, input_dim =40, activation = 'relu'))\n",
    "model.add(Dense(2, input_dim=50, activation='softmax')) \n",
    "batch_size = 100 \n",
    "nb_epoch = 100\n",
    "model.compile(optimizer='adam', loss='categorical_crossentropy', metrics=['accuracy']) \n",
    "model.summary()\n",
    "history = model.fit(traintest[:1500,:], traintest_Y_cat[:1500,:], batch_size=batch_size, nb_epoch=nb_epoch,verbose=1) "
   ]
  },
  {
   "cell_type": "code",
   "execution_count": 11,
   "metadata": {},
   "outputs": [
    {
     "data": {
      "image/png": "[encoded data removed]",
      "text/plain": [
       "<matplotlib.figure.Figure at 0x181bbcf050>"
      ]
     },
     "metadata": {},
     "output_type": "display_data"
    },
    {
     "data": {
      "image/png": "[encoded data removed]",
      "text/plain": [
       "<matplotlib.figure.Figure at 0x1812c3b650>"
      ]
     },
     "metadata": {},
     "output_type": "display_data"
    }
   ],
   "source": [
    "from matplotlib import pyplot as plt\n",
    "plt.plot(history.history['acc'])\n",
    "plt.title('model accuracy')\n",
    "plt.ylabel('accuracy')\n",
    "plt.xlabel('epoch')\n",
    "plt.legend(['train'], loc='upper left')\n",
    "plt.show()\n",
    "# summarize history for loss\n",
    "plt.plot(history.history['loss'])\n",
    "plt.title('model loss')\n",
    "plt.ylabel('loss')\n",
    "plt.xlabel('epoch')\n",
    "plt.legend(['train', 'test'], loc='upper left')\n",
    "plt.show()"
   ]
  },
  {
   "cell_type": "code",
   "execution_count": 12,
   "metadata": {},
   "outputs": [
    {
     "name": "stdout",
     "output_type": "stream",
     "text": [
      "100/100 [==============================] - 0s 332us/step\n",
      "('Test score:', 0.012776668914593756)\n",
      "('Test accuracy:', 1.0)\n"
     ]
    }
   ],
   "source": [
    "scores = model.evaluate(traintest[1500:,:], traintest_Y_cat[1500:,:], verbose=1)\n",
    "print('Test score:', scores[0]) \n",
    "print('Test accuracy:', scores[1])"
   ]
  },
  {
   "cell_type": "code",
   "execution_count": null,
   "metadata": {
    "collapsed": true
   },
   "outputs": [],
   "source": []
  }
 ],
 "metadata": {
  "kernelspec": {
   "display_name": "Python 2",
   "language": "python",
   "name": "python2"
  },
  "language_info": {
   "codemirror_mode": {
    "name": "ipython",
    "version": 2
   },
   "file_extension": ".py",
   "mimetype": "text/x-python",
   "name": "python",
   "nbconvert_exporter": "python",
   "pygments_lexer": "ipython2",
   "version": "2.7.13"
  }
 },
 "nbformat": 4,
 "nbformat_minor": 2
}
