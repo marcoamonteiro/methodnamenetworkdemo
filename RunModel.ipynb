{
 "cells": [
  {
   "cell_type": "code",
   "execution_count": 2,
   "metadata": {},
   "outputs": [
    {
     "name": "stderr",
     "output_type": "stream",
     "text": [
      "Using TensorFlow backend.\n"
     ]
    }
   ],
   "source": [
    "import json\n",
    "import numpy as np\n",
    "from keras.models import Sequential\n",
    "from keras.layers import Dense\n",
    "import argparse"
   ]
  },
  {
   "cell_type": "code",
   "execution_count": 3,
   "metadata": {
    "collapsed": true
   },
   "outputs": [],
   "source": [
    "from keras import optimizers\n",
    "from keras.datasets import imdb\n",
    "from keras.models import Sequential, Model\n",
    "from keras.layers import Dense, Input, Dropout, LSTM\n",
    "from keras.layers.embeddings import Embedding\n",
    "from keras.preprocessing import sequence\n",
    "from keras.utils import np_utils "
   ]
  },
  {
   "cell_type": "code",
   "execution_count": 4,
   "metadata": {
    "collapsed": true
   },
   "outputs": [],
   "source": [
    "goodNames = np.load('encodings_goodnamesout.npy')\n",
    "badNames = np.load('encodings_badnamesout.npy')"
   ]
  },
  {
   "cell_type": "code",
   "execution_count": 5,
   "metadata": {
    "collapsed": true
   },
   "outputs": [],
   "source": [
    "traintest_Y = np.zeros((1600,1))\n",
    "traintest = np.zeros((1600,50))\n",
    "for i in range(0,800):\n",
    "    traintest[i*2,:] = goodNames[:,i]\n",
    "    traintest[i*2+1,:]  = badNames[:,i]\n",
    "    traintest_Y[i*2, 0] = 1\n",
    "    traintest_Y[i*2+1,0] = 0\n",
    "\n",
    "traintest_Y_cat = np_utils.to_categorical(traintest_Y, 2)"
   ]
  },
  {
   "cell_type": "code",
   "execution_count": 6,
   "metadata": {},
   "outputs": [
    {
     "name": "stdout",
     "output_type": "stream",
     "text": [
      "_________________________________________________________________\n",
      "Layer (type)                 Output Shape              Param #   \n",
      "=================================================================\n",
      "dense_1 (Dense)              (None, 40)                2040      \n",
      "_________________________________________________________________\n",
      "dense_2 (Dense)              (None, 40)                1640      \n",
      "_________________________________________________________________\n",
      "dense_3 (Dense)              (None, 40)                1640      \n",
      "_________________________________________________________________\n",
      "dense_4 (Dense)              (None, 2)                 82        \n",
      "=================================================================\n",
      "Total params: 5,402\n",
      "Trainable params: 5,402\n",
      "Non-trainable params: 0\n",
      "_________________________________________________________________\n"
     ]
    },
    {
     "name": "stderr",
     "output_type": "stream",
     "text": [
      "/anaconda2/lib/python2.7/site-packages/keras/models.py:939: UserWarning: The `nb_epoch` argument in `fit` has been renamed `epochs`.\n",
      "  warnings.warn('The `nb_epoch` argument in `fit` '\n"
     ]
    },
    {
     "name": "stdout",
     "output_type": "stream",
     "text": [
      "Epoch 1/100\n",
      "1500/1500 [==============================] - 0s 319us/step - loss: 0.6770 - acc: 0.6867\n",
      "Epoch 2/100\n",
      "1500/1500 [==============================] - 0s 17us/step - loss: 0.6255 - acc: 0.8480\n",
      "Epoch 3/100\n",
      "1500/1500 [==============================] - 0s 22us/step - loss: 0.5280 - acc: 0.8773\n",
      "Epoch 4/100\n",
      "1500/1500 [==============================] - 0s 19us/step - loss: 0.3684 - acc: 0.9207\n",
      "Epoch 5/100\n",
      "1500/1500 [==============================] - 0s 21us/step - loss: 0.2055 - acc: 0.9633\n",
      "Epoch 6/100\n",
      "1500/1500 [==============================] - 0s 20us/step - loss: 0.1110 - acc: 0.9807\n",
      "Epoch 7/100\n",
      "1500/1500 [==============================] - 0s 19us/step - loss: 0.0659 - acc: 0.9907\n",
      "Epoch 8/100\n",
      "1500/1500 [==============================] - 0s 19us/step - loss: 0.0367 - acc: 0.9927\n",
      "Epoch 9/100\n",
      "1500/1500 [==============================] - 0s 19us/step - loss: 0.0170 - acc: 1.0000\n",
      "Epoch 10/100\n",
      "1500/1500 [==============================] - 0s 18us/step - loss: 0.0095 - acc: 1.0000\n",
      "Epoch 11/100\n",
      "1500/1500 [==============================] - 0s 21us/step - loss: 0.0059 - acc: 1.0000\n",
      "Epoch 12/100\n",
      "1500/1500 [==============================] - 0s 18us/step - loss: 0.0041 - acc: 1.0000\n",
      "Epoch 13/100\n",
      "1500/1500 [==============================] - 0s 21us/step - loss: 0.0031 - acc: 1.0000\n",
      "Epoch 14/100\n",
      "1500/1500 [==============================] - 0s 20us/step - loss: 0.0025 - acc: 1.0000\n",
      "Epoch 15/100\n",
      "1500/1500 [==============================] - 0s 21us/step - loss: 0.0020 - acc: 1.0000\n",
      "Epoch 16/100\n",
      "1500/1500 [==============================] - 0s 18us/step - loss: 0.0017 - acc: 1.0000\n",
      "Epoch 17/100\n",
      "1500/1500 [==============================] - 0s 21us/step - loss: 0.0014 - acc: 1.0000\n",
      "Epoch 18/100\n",
      "1500/1500 [==============================] - 0s 19us/step - loss: 0.0012 - acc: 1.0000\n",
      "Epoch 19/100\n",
      "1500/1500 [==============================] - 0s 18us/step - loss: 0.0010 - acc: 1.0000\n",
      "Epoch 20/100\n",
      "1500/1500 [==============================] - 0s 18us/step - loss: 9.0787e-04 - acc: 1.0000\n",
      "Epoch 21/100\n",
      "1500/1500 [==============================] - 0s 20us/step - loss: 8.0289e-04 - acc: 1.0000\n",
      "Epoch 22/100\n",
      "1500/1500 [==============================] - 0s 20us/step - loss: 7.1441e-04 - acc: 1.0000\n",
      "Epoch 23/100\n",
      "1500/1500 [==============================] - 0s 20us/step - loss: 6.3833e-04 - acc: 1.0000\n",
      "Epoch 24/100\n",
      "1500/1500 [==============================] - 0s 19us/step - loss: 5.7525e-04 - acc: 1.0000\n",
      "Epoch 25/100\n",
      "1500/1500 [==============================] - 0s 18us/step - loss: 5.2131e-04 - acc: 1.0000\n",
      "Epoch 26/100\n",
      "1500/1500 [==============================] - 0s 18us/step - loss: 4.7511e-04 - acc: 1.0000\n",
      "Epoch 27/100\n",
      "1500/1500 [==============================] - 0s 19us/step - loss: 4.3390e-04 - acc: 1.0000\n",
      "Epoch 28/100\n",
      "1500/1500 [==============================] - 0s 19us/step - loss: 3.9772e-04 - acc: 1.0000\n",
      "Epoch 29/100\n",
      "1500/1500 [==============================] - 0s 19us/step - loss: 3.6591e-04 - acc: 1.0000\n",
      "Epoch 30/100\n",
      "1500/1500 [==============================] - 0s 20us/step - loss: 3.3832e-04 - acc: 1.0000\n",
      "Epoch 31/100\n",
      "1500/1500 [==============================] - 0s 20us/step - loss: 3.1310e-04 - acc: 1.0000\n",
      "Epoch 32/100\n",
      "1500/1500 [==============================] - 0s 20us/step - loss: 2.9105e-04 - acc: 1.0000\n",
      "Epoch 33/100\n",
      "1500/1500 [==============================] - 0s 19us/step - loss: 2.7090e-04 - acc: 1.0000\n",
      "Epoch 34/100\n",
      "1500/1500 [==============================] - 0s 21us/step - loss: 2.5304e-04 - acc: 1.0000\n",
      "Epoch 35/100\n",
      "1500/1500 [==============================] - 0s 22us/step - loss: 2.3672e-04 - acc: 1.0000\n",
      "Epoch 36/100\n",
      "1500/1500 [==============================] - 0s 21us/step - loss: 2.2212e-04 - acc: 1.0000\n",
      "Epoch 37/100\n",
      "1500/1500 [==============================] - 0s 21us/step - loss: 2.0843e-04 - acc: 1.0000\n",
      "Epoch 38/100\n",
      "1500/1500 [==============================] - 0s 19us/step - loss: 1.9610e-04 - acc: 1.0000\n",
      "Epoch 39/100\n",
      "1500/1500 [==============================] - 0s 21us/step - loss: 1.8515e-04 - acc: 1.0000\n",
      "Epoch 40/100\n",
      "1500/1500 [==============================] - 0s 19us/step - loss: 1.7479e-04 - acc: 1.0000\n",
      "Epoch 41/100\n",
      "1500/1500 [==============================] - ETA: 0s - loss: 1.2757e-04 - acc: 1.000 - 0s 21us/step - loss: 1.6539e-04 - acc: 1.0000\n",
      "Epoch 42/100\n",
      "1500/1500 [==============================] - 0s 21us/step - loss: 1.5628e-04 - acc: 1.0000\n",
      "Epoch 43/100\n",
      "1500/1500 [==============================] - 0s 21us/step - loss: 1.4828e-04 - acc: 1.0000\n",
      "Epoch 44/100\n",
      "1500/1500 [==============================] - 0s 21us/step - loss: 1.4063e-04 - acc: 1.0000\n",
      "Epoch 45/100\n",
      "1500/1500 [==============================] - 0s 22us/step - loss: 1.3353e-04 - acc: 1.0000\n",
      "Epoch 46/100\n",
      "1500/1500 [==============================] - 0s 19us/step - loss: 1.2705e-04 - acc: 1.0000\n",
      "Epoch 47/100\n",
      "1500/1500 [==============================] - 0s 19us/step - loss: 1.2099e-04 - acc: 1.0000\n",
      "Epoch 48/100\n",
      "1500/1500 [==============================] - 0s 19us/step - loss: 1.1543e-04 - acc: 1.0000\n",
      "Epoch 49/100\n",
      "1500/1500 [==============================] - 0s 19us/step - loss: 1.1013e-04 - acc: 1.0000\n",
      "Epoch 50/100\n",
      "1500/1500 [==============================] - 0s 17us/step - loss: 1.0521e-04 - acc: 1.0000\n",
      "Epoch 51/100\n",
      "1500/1500 [==============================] - 0s 17us/step - loss: 1.0064e-04 - acc: 1.0000\n",
      "Epoch 52/100\n",
      "1500/1500 [==============================] - 0s 17us/step - loss: 9.6290e-05 - acc: 1.0000\n",
      "Epoch 53/100\n",
      "1500/1500 [==============================] - 0s 17us/step - loss: 9.2301e-05 - acc: 1.0000\n",
      "Epoch 54/100\n",
      "1500/1500 [==============================] - 0s 17us/step - loss: 8.8482e-05 - acc: 1.0000\n",
      "Epoch 55/100\n",
      "1500/1500 [==============================] - 0s 18us/step - loss: 8.4904e-05 - acc: 1.0000\n",
      "Epoch 56/100\n",
      "1500/1500 [==============================] - 0s 18us/step - loss: 8.1503e-05 - acc: 1.0000\n",
      "Epoch 57/100\n",
      "1500/1500 [==============================] - 0s 17us/step - loss: 7.8368e-05 - acc: 1.0000\n",
      "Epoch 58/100\n",
      "1500/1500 [==============================] - 0s 18us/step - loss: 7.5300e-05 - acc: 1.0000\n",
      "Epoch 59/100\n",
      "1500/1500 [==============================] - 0s 16us/step - loss: 7.2485e-05 - acc: 1.0000\n",
      "Epoch 60/100\n",
      "1500/1500 [==============================] - 0s 17us/step - loss: 6.9660e-05 - acc: 1.0000\n",
      "Epoch 61/100\n",
      "1500/1500 [==============================] - 0s 18us/step - loss: 6.7056e-05 - acc: 1.0000\n",
      "Epoch 62/100\n",
      "1500/1500 [==============================] - 0s 18us/step - loss: 6.4611e-05 - acc: 1.0000\n",
      "Epoch 63/100\n",
      "1500/1500 [==============================] - 0s 18us/step - loss: 6.2288e-05 - acc: 1.0000\n",
      "Epoch 64/100\n",
      "1500/1500 [==============================] - 0s 19us/step - loss: 6.0093e-05 - acc: 1.0000\n",
      "Epoch 65/100\n",
      "1500/1500 [==============================] - 0s 17us/step - loss: 5.8028e-05 - acc: 1.0000\n",
      "Epoch 66/100\n",
      "1500/1500 [==============================] - 0s 17us/step - loss: 5.6020e-05 - acc: 1.0000\n",
      "Epoch 67/100\n",
      "1500/1500 [==============================] - 0s 18us/step - loss: 5.4197e-05 - acc: 1.0000\n",
      "Epoch 68/100\n",
      "1500/1500 [==============================] - ETA: 0s - loss: 4.9068e-05 - acc: 1.000 - 0s 18us/step - loss: 5.2363e-05 - acc: 1.0000\n",
      "Epoch 69/100\n",
      "1500/1500 [==============================] - 0s 17us/step - loss: 5.0657e-05 - acc: 1.0000\n",
      "Epoch 70/100\n",
      "1500/1500 [==============================] - 0s 18us/step - loss: 4.9080e-05 - acc: 1.0000\n",
      "Epoch 71/100\n",
      "1500/1500 [==============================] - 0s 17us/step - loss: 4.7540e-05 - acc: 1.0000\n",
      "Epoch 72/100\n",
      "1500/1500 [==============================] - 0s 18us/step - loss: 4.6049e-05 - acc: 1.0000\n",
      "Epoch 73/100\n",
      "1500/1500 [==============================] - 0s 18us/step - loss: 4.4640e-05 - acc: 1.0000\n",
      "Epoch 74/100\n",
      "1500/1500 [==============================] - 0s 16us/step - loss: 4.3286e-05 - acc: 1.0000\n",
      "Epoch 75/100\n",
      "1500/1500 [==============================] - 0s 18us/step - loss: 4.2004e-05 - acc: 1.0000\n",
      "Epoch 76/100\n",
      "1500/1500 [==============================] - 0s 17us/step - loss: 4.0790e-05 - acc: 1.0000\n",
      "Epoch 77/100\n",
      "1500/1500 [==============================] - 0s 16us/step - loss: 3.9590e-05 - acc: 1.0000\n",
      "Epoch 78/100\n",
      "1500/1500 [==============================] - 0s 17us/step - loss: 3.8468e-05 - acc: 1.0000\n",
      "Epoch 79/100\n"
     ]
    },
    {
     "name": "stdout",
     "output_type": "stream",
     "text": [
      "1500/1500 [==============================] - 0s 19us/step - loss: 3.7369e-05 - acc: 1.0000\n",
      "Epoch 80/100\n",
      "1500/1500 [==============================] - 0s 18us/step - loss: 3.6328e-05 - acc: 1.0000\n",
      "Epoch 81/100\n",
      "1500/1500 [==============================] - 0s 19us/step - loss: 3.5356e-05 - acc: 1.0000\n",
      "Epoch 82/100\n",
      "1500/1500 [==============================] - 0s 17us/step - loss: 3.4340e-05 - acc: 1.0000\n",
      "Epoch 83/100\n",
      "1500/1500 [==============================] - 0s 18us/step - loss: 3.3414e-05 - acc: 1.0000\n",
      "Epoch 84/100\n",
      "1500/1500 [==============================] - 0s 19us/step - loss: 3.2533e-05 - acc: 1.0000\n",
      "Epoch 85/100\n",
      "1500/1500 [==============================] - 0s 20us/step - loss: 3.1664e-05 - acc: 1.0000\n",
      "Epoch 86/100\n",
      "1500/1500 [==============================] - 0s 20us/step - loss: 3.0827e-05 - acc: 1.0000\n",
      "Epoch 87/100\n",
      "1500/1500 [==============================] - 0s 17us/step - loss: 3.0050e-05 - acc: 1.0000\n",
      "Epoch 88/100\n",
      "1500/1500 [==============================] - 0s 19us/step - loss: 2.9274e-05 - acc: 1.0000\n",
      "Epoch 89/100\n",
      "1500/1500 [==============================] - 0s 18us/step - loss: 2.8525e-05 - acc: 1.0000\n",
      "Epoch 90/100\n",
      "1500/1500 [==============================] - 0s 17us/step - loss: 2.7807e-05 - acc: 1.0000\n",
      "Epoch 91/100\n",
      "1500/1500 [==============================] - 0s 16us/step - loss: 2.7120e-05 - acc: 1.0000\n",
      "Epoch 92/100\n",
      "1500/1500 [==============================] - 0s 16us/step - loss: 2.6467e-05 - acc: 1.0000\n",
      "Epoch 93/100\n",
      "1500/1500 [==============================] - 0s 17us/step - loss: 2.5816e-05 - acc: 1.0000\n",
      "Epoch 94/100\n",
      "1500/1500 [==============================] - 0s 16us/step - loss: 2.5193e-05 - acc: 1.0000\n",
      "Epoch 95/100\n",
      "1500/1500 [==============================] - 0s 16us/step - loss: 2.4596e-05 - acc: 1.0000\n",
      "Epoch 96/100\n",
      "1500/1500 [==============================] - 0s 17us/step - loss: 2.4017e-05 - acc: 1.0000\n",
      "Epoch 97/100\n",
      "1500/1500 [==============================] - 0s 17us/step - loss: 2.3461e-05 - acc: 1.0000\n",
      "Epoch 98/100\n",
      "1500/1500 [==============================] - 0s 16us/step - loss: 2.2916e-05 - acc: 1.0000\n",
      "Epoch 99/100\n",
      "1500/1500 [==============================] - 0s 17us/step - loss: 2.2387e-05 - acc: 1.0000\n",
      "Epoch 100/100\n",
      "1500/1500 [==============================] - 0s 17us/step - loss: 2.1883e-05 - acc: 1.0000\n"
     ]
    }
   ],
   "source": [
    "model = Sequential() \n",
    "model.add(Dense(40, input_dim =50, activation = 'relu'))\n",
    "model.add(Dense(40, input_dim =40, activation = 'relu'))\n",
    "model.add(Dense(40, input_dim =40, activation = 'relu'))\n",
    "model.add(Dense(2, input_dim=50, activation='softmax')) \n",
    "batch_size = 100 \n",
    "nb_epoch = 100\n",
    "model.compile(optimizer='adam', loss='categorical_crossentropy', metrics=['accuracy']) \n",
    "model.summary()\n",
    "history = model.fit(traintest[:1500,:], traintest_Y_cat[:1500,:], batch_size=batch_size, nb_epoch=nb_epoch,verbose=1) "
   ]
  },
  {
   "cell_type": "code",
   "execution_count": 7,
   "metadata": {},
   "outputs": [
    {
     "data": {
      "image/png": "[encoded data removed]",
      "text/plain": [
       "<matplotlib.figure.Figure at 0x109addd50>"
      ]
     },
     "metadata": {},
     "output_type": "display_data"
    },
    {
     "data": {
      "image/png": "[encoded data removed]",
      "text/plain": [
       "<matplotlib.figure.Figure at 0x10adb4490>"
      ]
     },
     "metadata": {},
     "output_type": "display_data"
    }
   ],
   "source": [
    "from matplotlib import pyplot as plt\n",
    "plt.plot(history.history['acc'])\n",
    "plt.title('model accuracy')\n",
    "plt.ylabel('accuracy')\n",
    "plt.xlabel('epoch')\n",
    "plt.legend(['train'], loc='upper left')\n",
    "plt.show()\n",
    "# summarize history for loss\n",
    "plt.plot(history.history['loss'])\n",
    "plt.title('model loss')\n",
    "plt.ylabel('loss')\n",
    "plt.xlabel('epoch')\n",
    "plt.legend(['train', 'test'], loc='upper left')\n",
    "plt.show()"
   ]
  },
  {
   "cell_type": "code",
   "execution_count": 12,
   "metadata": {},
   "outputs": [
    {
     "name": "stdout",
     "output_type": "stream",
     "text": [
      "100/100 [==============================] - 0s 332us/step\n",
      "('Test score:', 0.012776668914593756)\n",
      "('Test accuracy:', 1.0)\n"
     ]
    }
   ],
   "source": [
    "scores = model.evaluate(traintest[1500:,:], traintest_Y_cat[1500:,:], verbose=1)\n",
    "print('Test score:', scores[0]) \n",
    "print('Test accuracy:', scores[1])"
   ]
  },
  {
   "cell_type": "code",
   "execution_count": null,
   "metadata": {
    "collapsed": true
   },
   "outputs": [],
   "source": []
  }
 ],
 "metadata": {
  "kernelspec": {
   "display_name": "Python 2",
   "language": "python",
   "name": "python2"
  },
  "language_info": {
   "codemirror_mode": {
    "name": "ipython",
    "version": 2
   },
   "file_extension": ".py",
   "mimetype": "text/x-python",
   "name": "python",
   "nbconvert_exporter": "python",
   "pygments_lexer": "ipython2",
   "version": "2.7.13"
  }
 },
 "nbformat": 4,
 "nbformat_minor": 2
}
